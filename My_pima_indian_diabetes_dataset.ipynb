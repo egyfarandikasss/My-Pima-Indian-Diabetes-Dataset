{
 "cells": [
  {
   "cell_type": "markdown",
   "metadata": {},
   "source": [
    "## Dataset \n",
    "The dataset is a pima indian diabetes that i got from https://www.kaggle.com/uciml/pima-indians-diabetes-database. The dataset is originally from the National Institute of Diabetes and Digestive and Kidney Diseases. The sample in this dataset is all female patients and at leats 21 years old of pima indians heritage. The dataset is contain 9 column, 8 columns is the medical predictor (independen variables) and 1 column is a target (dependen variable). The goal from this project is to diagnostically predict whether or not a patient has diabetes, based on certain diagnostic measurements included in the dataset."
   ]
  },
  {
   "cell_type": "code",
   "execution_count": 30,
   "metadata": {},
   "outputs": [],
   "source": [
    "import pandas as pd \n",
    "import numpy as np\n",
    "import matplotlib.pyplot as plt \n",
    "import seaborn as sns \n",
    "%matplotlib inline"
   ]
  },
  {
   "cell_type": "code",
   "execution_count": 31,
   "metadata": {},
   "outputs": [
    {
     "name": "stdout",
     "output_type": "stream",
     "text": [
      "(768, 9)\n",
      "Pregnancies                 0\n",
      "Glucose                     0\n",
      "BloodPressure               0\n",
      "SkinThickness               0\n",
      "Insulin                     0\n",
      "BMI                         0\n",
      "DiabetesPedigreeFunction    0\n",
      "Age                         0\n",
      "Outcome                     0\n",
      "dtype: int64\n"
     ]
    }
   ],
   "source": [
    "data= pd.read_csv('E://EGY/DATA/diabetes.csv')\n",
    "print(data.shape)\n",
    "print(data.isnull().sum())"
   ]
  },
  {
   "cell_type": "code",
   "execution_count": 32,
   "metadata": {},
   "outputs": [
    {
     "data": {
      "text/html": [
       "<div>\n",
       "<style scoped>\n",
       "    .dataframe tbody tr th:only-of-type {\n",
       "        vertical-align: middle;\n",
       "    }\n",
       "\n",
       "    .dataframe tbody tr th {\n",
       "        vertical-align: top;\n",
       "    }\n",
       "\n",
       "    .dataframe thead th {\n",
       "        text-align: right;\n",
       "    }\n",
       "</style>\n",
       "<table border=\"1\" class=\"dataframe\">\n",
       "  <thead>\n",
       "    <tr style=\"text-align: right;\">\n",
       "      <th></th>\n",
       "      <th>Pregnancies</th>\n",
       "      <th>Glucose</th>\n",
       "      <th>BloodPressure</th>\n",
       "      <th>SkinThickness</th>\n",
       "      <th>Insulin</th>\n",
       "      <th>BMI</th>\n",
       "      <th>DiabetesPedigreeFunction</th>\n",
       "      <th>Age</th>\n",
       "      <th>Outcome</th>\n",
       "    </tr>\n",
       "  </thead>\n",
       "  <tbody>\n",
       "    <tr>\n",
       "      <th>0</th>\n",
       "      <td>6</td>\n",
       "      <td>148</td>\n",
       "      <td>72</td>\n",
       "      <td>35</td>\n",
       "      <td>0</td>\n",
       "      <td>33.6</td>\n",
       "      <td>0.627</td>\n",
       "      <td>50</td>\n",
       "      <td>1</td>\n",
       "    </tr>\n",
       "    <tr>\n",
       "      <th>1</th>\n",
       "      <td>1</td>\n",
       "      <td>85</td>\n",
       "      <td>66</td>\n",
       "      <td>29</td>\n",
       "      <td>0</td>\n",
       "      <td>26.6</td>\n",
       "      <td>0.351</td>\n",
       "      <td>31</td>\n",
       "      <td>0</td>\n",
       "    </tr>\n",
       "  </tbody>\n",
       "</table>\n",
       "</div>"
      ],
      "text/plain": [
       "   Pregnancies  Glucose  BloodPressure  SkinThickness  Insulin   BMI  \\\n",
       "0            6      148             72             35        0  33.6   \n",
       "1            1       85             66             29        0  26.6   \n",
       "\n",
       "   DiabetesPedigreeFunction  Age  Outcome  \n",
       "0                     0.627   50        1  \n",
       "1                     0.351   31        0  "
      ]
     },
     "execution_count": 32,
     "metadata": {},
     "output_type": "execute_result"
    }
   ],
   "source": [
    "data.head(2)"
   ]
  },
  {
   "cell_type": "code",
   "execution_count": 33,
   "metadata": {},
   "outputs": [],
   "source": [
    "new_col = {'Pregnancies': 'preg', 'Glucose': 'gluc', 'BloodPressure': 'pres', 'SkinThickness':'skin', 'Insulin':'insu', 'BMI':'bmi', 'DiabetesPedigreeFunction':'dbpf', 'Age':'age', 'Outcome':'out'}"
   ]
  },
  {
   "cell_type": "code",
   "execution_count": 34,
   "metadata": {},
   "outputs": [
    {
     "data": {
      "text/html": [
       "<div>\n",
       "<style scoped>\n",
       "    .dataframe tbody tr th:only-of-type {\n",
       "        vertical-align: middle;\n",
       "    }\n",
       "\n",
       "    .dataframe tbody tr th {\n",
       "        vertical-align: top;\n",
       "    }\n",
       "\n",
       "    .dataframe thead th {\n",
       "        text-align: right;\n",
       "    }\n",
       "</style>\n",
       "<table border=\"1\" class=\"dataframe\">\n",
       "  <thead>\n",
       "    <tr style=\"text-align: right;\">\n",
       "      <th></th>\n",
       "      <th>preg</th>\n",
       "      <th>gluc</th>\n",
       "      <th>pres</th>\n",
       "      <th>skin</th>\n",
       "      <th>insu</th>\n",
       "      <th>bmi</th>\n",
       "      <th>dbpf</th>\n",
       "      <th>age</th>\n",
       "      <th>out</th>\n",
       "    </tr>\n",
       "  </thead>\n",
       "  <tbody>\n",
       "    <tr>\n",
       "      <th>0</th>\n",
       "      <td>6</td>\n",
       "      <td>148</td>\n",
       "      <td>72</td>\n",
       "      <td>35</td>\n",
       "      <td>0</td>\n",
       "      <td>33.6</td>\n",
       "      <td>0.627</td>\n",
       "      <td>50</td>\n",
       "      <td>1</td>\n",
       "    </tr>\n",
       "    <tr>\n",
       "      <th>1</th>\n",
       "      <td>1</td>\n",
       "      <td>85</td>\n",
       "      <td>66</td>\n",
       "      <td>29</td>\n",
       "      <td>0</td>\n",
       "      <td>26.6</td>\n",
       "      <td>0.351</td>\n",
       "      <td>31</td>\n",
       "      <td>0</td>\n",
       "    </tr>\n",
       "    <tr>\n",
       "      <th>2</th>\n",
       "      <td>8</td>\n",
       "      <td>183</td>\n",
       "      <td>64</td>\n",
       "      <td>0</td>\n",
       "      <td>0</td>\n",
       "      <td>23.3</td>\n",
       "      <td>0.672</td>\n",
       "      <td>32</td>\n",
       "      <td>1</td>\n",
       "    </tr>\n",
       "    <tr>\n",
       "      <th>3</th>\n",
       "      <td>1</td>\n",
       "      <td>89</td>\n",
       "      <td>66</td>\n",
       "      <td>23</td>\n",
       "      <td>94</td>\n",
       "      <td>28.1</td>\n",
       "      <td>0.167</td>\n",
       "      <td>21</td>\n",
       "      <td>0</td>\n",
       "    </tr>\n",
       "    <tr>\n",
       "      <th>4</th>\n",
       "      <td>0</td>\n",
       "      <td>137</td>\n",
       "      <td>40</td>\n",
       "      <td>35</td>\n",
       "      <td>168</td>\n",
       "      <td>43.1</td>\n",
       "      <td>2.288</td>\n",
       "      <td>33</td>\n",
       "      <td>1</td>\n",
       "    </tr>\n",
       "  </tbody>\n",
       "</table>\n",
       "</div>"
      ],
      "text/plain": [
       "   preg  gluc  pres  skin  insu   bmi   dbpf  age  out\n",
       "0     6   148    72    35     0  33.6  0.627   50    1\n",
       "1     1    85    66    29     0  26.6  0.351   31    0\n",
       "2     8   183    64     0     0  23.3  0.672   32    1\n",
       "3     1    89    66    23    94  28.1  0.167   21    0\n",
       "4     0   137    40    35   168  43.1  2.288   33    1"
      ]
     },
     "execution_count": 34,
     "metadata": {},
     "output_type": "execute_result"
    }
   ],
   "source": [
    "data.rename(columns = new_col, inplace = True)\n",
    "data.head()"
   ]
  },
  {
   "cell_type": "markdown",
   "metadata": {},
   "source": [
    "### Input Variales (X)\n",
    "1. preg : Number of times pregnant\n",
    "2. gluc : Plasma glucose concentration a 2 hours in an oral glucose tolerance test\n",
    "3. pres : Diastolic blood pressure (mm Hg)\n",
    "4. skin : Triceps skin fold thickness (mm)\n",
    "5. insu : 2-Hour serum insulin (mu U/ml)\n",
    "6. bmi : Body mass index (weight in kg/(height in m)^2)\n",
    "7. dbpf : Diabetes pedigree function\n",
    "8. age : Age (years)"
   ]
  },
  {
   "cell_type": "markdown",
   "metadata": {},
   "source": [
    "### Target Variable (Y): \n",
    "out : Target variable. 0 represent individual who do not have diabetes and 1 represent individual who have diabetes."
   ]
  },
  {
   "cell_type": "markdown",
   "metadata": {},
   "source": [
    "### Handling missing value \n",
    "I define the missing value in this dataset are 0 in all columns except the output (of course cuz the output 0 mean that the patient dont have diabetes).\\\n",
    "So we need to replace 0 as NaN value in all columns except output. After that i'll drop the NaN values.\n"
   ]
  },
  {
   "cell_type": "code",
   "execution_count": 35,
   "metadata": {},
   "outputs": [],
   "source": [
    "data[['preg','gluc', 'pres', 'skin', 'insu', 'bmi', 'dbpf', 'age']] = data[['preg','gluc', 'pres', 'skin', 'insu', 'bmi', 'dbpf', 'age']].replace(0,np.NaN)"
   ]
  },
  {
   "cell_type": "code",
   "execution_count": 36,
   "metadata": {},
   "outputs": [
    {
     "name": "stdout",
     "output_type": "stream",
     "text": [
      "<class 'pandas.core.frame.DataFrame'>\n",
      "RangeIndex: 768 entries, 0 to 767\n",
      "Data columns (total 9 columns):\n",
      " #   Column  Non-Null Count  Dtype  \n",
      "---  ------  --------------  -----  \n",
      " 0   preg    657 non-null    float64\n",
      " 1   gluc    763 non-null    float64\n",
      " 2   pres    733 non-null    float64\n",
      " 3   skin    541 non-null    float64\n",
      " 4   insu    394 non-null    float64\n",
      " 5   bmi     757 non-null    float64\n",
      " 6   dbpf    768 non-null    float64\n",
      " 7   age     768 non-null    int64  \n",
      " 8   out     768 non-null    int64  \n",
      "dtypes: float64(7), int64(2)\n",
      "memory usage: 54.1 KB\n"
     ]
    }
   ],
   "source": [
    "data.info()"
   ]
  },
  {
   "cell_type": "markdown",
   "metadata": {},
   "source": [
    "#### Replacing Missing Value "
   ]
  },
  {
   "cell_type": "markdown",
   "metadata": {},
   "source": [
    "After see the info above we can conclude that there are 6 column got missing value, for insulin column we have a half of data are missing values. Since the data are numeric values, the missing values can be replace with some numerical values. "
   ]
  },
  {
   "cell_type": "markdown",
   "metadata": {},
   "source": [
    "**preg**"
   ]
  },
  {
   "cell_type": "code",
   "execution_count": 37,
   "metadata": {},
   "outputs": [
    {
     "name": "stdout",
     "output_type": "stream",
     "text": [
      "Missing Values in Pregnancies columns: 111\n"
     ]
    }
   ],
   "source": [
    "print('Missing Values in Pregnancies columns:', data['preg'].isnull().sum())"
   ]
  },
  {
   "cell_type": "markdown",
   "metadata": {},
   "source": [
    "For Pregnancies i will replace the missing values by the mean based on their output. "
   ]
  },
  {
   "cell_type": "code",
   "execution_count": 62,
   "metadata": {},
   "outputs": [
    {
     "name": "stdout",
     "output_type": "stream",
     "text": [
      "   out  preg\n",
      "0    0   4.0\n",
      "1    1   6.0\n"
     ]
    }
   ],
   "source": [
    "preg_rep = data[data['preg'].notnull()]\n",
    "preg_rep = preg_rep[['preg', 'out']].groupby(['out'])[['preg']].mean().apply(np.ceil).reset_index()\n",
    "print(preg_rep)"
   ]
  },
  {
   "cell_type": "code",
   "execution_count": 39,
   "metadata": {},
   "outputs": [
    {
     "name": "stdout",
     "output_type": "stream",
     "text": [
      "Missing Values in Pregnancies columns: 0\n"
     ]
    }
   ],
   "source": [
    "# Replace the missing value in Pregnancies column\n",
    "data.loc[(data['out'] == 0 ) & (data['preg'].isnull()), 'preg'] = 4\n",
    "data.loc[(data['out'] == 1 ) & (data['preg'].isnull()), 'preg'] = 6\n",
    "print('Missing Values in Pregnancies columns:', data['preg'].isnull().sum())"
   ]
  },
  {
   "cell_type": "markdown",
   "metadata": {},
   "source": [
    "**Gluc**"
   ]
  },
  {
   "cell_type": "code",
   "execution_count": 40,
   "metadata": {},
   "outputs": [
    {
     "name": "stdout",
     "output_type": "stream",
     "text": [
      "Missing Values in Glucose columns: 5\n"
     ]
    }
   ],
   "source": [
    "print('Missing Values in Glucose columns:', data['gluc'].isnull().sum())"
   ]
  },
  {
   "cell_type": "code",
   "execution_count": 41,
   "metadata": {},
   "outputs": [
    {
     "name": "stdout",
     "output_type": "stream",
     "text": [
      "Missing Values in Glucose columns: 0\n"
     ]
    }
   ],
   "source": [
    "# Replace Missing values in glucose column by mean\n",
    "data['gluc'].fillna(data['gluc'].mean(), inplace= True)\n",
    "print('Missing Values in Glucose columns:', data['gluc'].isnull().sum())"
   ]
  },
  {
   "cell_type": "markdown",
   "metadata": {},
   "source": [
    "**Pres**"
   ]
  },
  {
   "cell_type": "code",
   "execution_count": 42,
   "metadata": {},
   "outputs": [
    {
     "name": "stdout",
     "output_type": "stream",
     "text": [
      "Missing Values in BloodPressure columns: 35\n"
     ]
    }
   ],
   "source": [
    "print('Missing Values in BloodPressure columns:', data['pres'].isnull().sum())"
   ]
  },
  {
   "cell_type": "code",
   "execution_count": 43,
   "metadata": {},
   "outputs": [
    {
     "name": "stdout",
     "output_type": "stream",
     "text": [
      "Missing Values in BloodPressure columns: 0\n"
     ]
    }
   ],
   "source": [
    "# Replace Missing values in BloodPressure column by median\n",
    "data['pres'].fillna(data['pres'].median(), inplace= True)\n",
    "print('Missing Values in BloodPressure columns:', data['pres'].isnull().sum())"
   ]
  },
  {
   "cell_type": "markdown",
   "metadata": {},
   "source": [
    "**Skin**"
   ]
  },
  {
   "cell_type": "code",
   "execution_count": 44,
   "metadata": {},
   "outputs": [
    {
     "name": "stdout",
     "output_type": "stream",
     "text": [
      "Missing Values in SkinThickness columns: 227\n"
     ]
    }
   ],
   "source": [
    "print('Missing Values in SkinThickness columns:', data['skin'].isnull().sum())"
   ]
  },
  {
   "cell_type": "markdown",
   "metadata": {},
   "source": [
    "For SkinThickness i will replace the missing values by the median based on their output. "
   ]
  },
  {
   "cell_type": "code",
   "execution_count": 45,
   "metadata": {},
   "outputs": [
    {
     "name": "stdout",
     "output_type": "stream",
     "text": [
      "   out  skin\n",
      "0    0  27.0\n",
      "1    1  32.0\n"
     ]
    }
   ],
   "source": [
    "skin_rep = data[data['skin'].notnull()]\n",
    "skin_rep = skin_rep[['skin', 'out']].groupby(['out'])[['skin']].median().reset_index()\n",
    "print(skin_rep)"
   ]
  },
  {
   "cell_type": "code",
   "execution_count": 46,
   "metadata": {},
   "outputs": [
    {
     "name": "stdout",
     "output_type": "stream",
     "text": [
      "Missing Values in SkinThickness columns: 0\n"
     ]
    }
   ],
   "source": [
    "# Replace the missing value in SkinThickness column\n",
    "data.loc[(data['out'] == 0 ) & (data['skin'].isnull()), 'skin'] = 27\n",
    "data.loc[(data['out'] == 1 ) & (data['skin'].isnull()), 'skin'] = 32\n",
    "print('Missing Values in SkinThickness columns:', data['skin'].isnull().sum())"
   ]
  },
  {
   "cell_type": "markdown",
   "metadata": {},
   "source": [
    "**Insu**"
   ]
  },
  {
   "cell_type": "code",
   "execution_count": 47,
   "metadata": {},
   "outputs": [
    {
     "name": "stdout",
     "output_type": "stream",
     "text": [
      "Missing Values in Insulin columns: 374\n"
     ]
    }
   ],
   "source": [
    "print('Missing Values in Insulin columns:', data['insu'].isnull().sum())"
   ]
  },
  {
   "cell_type": "markdown",
   "metadata": {},
   "source": [
    "Same as skinthickness i will replace the missing values in insulin column by mean based on their output."
   ]
  },
  {
   "cell_type": "code",
   "execution_count": 48,
   "metadata": {},
   "outputs": [
    {
     "name": "stdout",
     "output_type": "stream",
     "text": [
      "   out   insu\n",
      "0    0  131.0\n",
      "1    1  207.0\n"
     ]
    }
   ],
   "source": [
    "insu_rep = data[data['insu'].notnull()]\n",
    "insu_rep = insu_rep[['insu', 'out']].groupby(['out'])[['insu']].mean().apply(np.ceil).reset_index()\n",
    "print(insu_rep)"
   ]
  },
  {
   "cell_type": "code",
   "execution_count": 49,
   "metadata": {},
   "outputs": [
    {
     "name": "stdout",
     "output_type": "stream",
     "text": [
      "Missing Values in Insulin columns: 0\n"
     ]
    }
   ],
   "source": [
    "# Replace the missing value in Insulin column\n",
    "data.loc[(data['out'] == 0 ) & (data['insu'].isnull()), 'insu'] = 131\n",
    "data.loc[(data['out'] == 1 ) & (data['insu'].isnull()), 'insu'] = 207\n",
    "print('Missing Values in Insulin columns:', data['insu'].isnull().sum())"
   ]
  },
  {
   "cell_type": "markdown",
   "metadata": {},
   "source": [
    "**bmi**"
   ]
  },
  {
   "cell_type": "code",
   "execution_count": 50,
   "metadata": {},
   "outputs": [
    {
     "name": "stdout",
     "output_type": "stream",
     "text": [
      "Missing Values in BMI columns: 11\n"
     ]
    }
   ],
   "source": [
    "print('Missing Values in BMI columns:', data['bmi'].isnull().sum())"
   ]
  },
  {
   "cell_type": "code",
   "execution_count": 51,
   "metadata": {},
   "outputs": [
    {
     "name": "stdout",
     "output_type": "stream",
     "text": [
      "Missing Values in BMI columns: 0\n"
     ]
    }
   ],
   "source": [
    "# Replace missing values in BMI column by mean\n",
    "# Replace Missing values in glucose column by mean\n",
    "data['bmi'].fillna(data['bmi'].mean(), inplace= True)\n",
    "print('Missing Values in BMI columns:', data['bmi'].isnull().sum())"
   ]
  },
  {
   "cell_type": "code",
   "execution_count": 52,
   "metadata": {},
   "outputs": [
    {
     "name": "stdout",
     "output_type": "stream",
     "text": [
      "<class 'pandas.core.frame.DataFrame'>\n",
      "RangeIndex: 768 entries, 0 to 767\n",
      "Data columns (total 9 columns):\n",
      " #   Column  Non-Null Count  Dtype  \n",
      "---  ------  --------------  -----  \n",
      " 0   preg    768 non-null    float64\n",
      " 1   gluc    768 non-null    float64\n",
      " 2   pres    768 non-null    float64\n",
      " 3   skin    768 non-null    float64\n",
      " 4   insu    768 non-null    float64\n",
      " 5   bmi     768 non-null    float64\n",
      " 6   dbpf    768 non-null    float64\n",
      " 7   age     768 non-null    int64  \n",
      " 8   out     768 non-null    int64  \n",
      "dtypes: float64(7), int64(2)\n",
      "memory usage: 54.1 KB\n"
     ]
    }
   ],
   "source": [
    "data.info()"
   ]
  },
  {
   "cell_type": "markdown",
   "metadata": {},
   "source": [
    "### Data Exploration "
   ]
  },
  {
   "cell_type": "code",
   "execution_count": 54,
   "metadata": {},
   "outputs": [
    {
     "data": {
      "text/plain": [
       "0    500\n",
       "1    268\n",
       "Name: out, dtype: int64"
      ]
     },
     "execution_count": 54,
     "metadata": {},
     "output_type": "execute_result"
    }
   ],
   "source": [
    "data['out'].value_counts()"
   ]
  },
  {
   "cell_type": "code",
   "execution_count": 55,
   "metadata": {},
   "outputs": [
    {
     "data": {
      "image/png": "[encoded data removed]",
      "text/plain": [
       "<Figure size 432x288 with 1 Axes>"
      ]
     },
     "metadata": {},
     "output_type": "display_data"
    }
   ],
   "source": [
    "sns.set(style=\"whitegrid\", color_codes=True)\n",
    "sns.countplot(x='out', data= data, palette ='hls')\n",
    "plt.title('The number of patient has diabetes or not')\n",
    "plt.xlabel('Outcome')\n",
    "plt.show()"
   ]
  },
  {
   "cell_type": "markdown",
   "metadata": {},
   "source": [
    "There are 500 sample patient with 0, it means that she dont have diabetes, and 268 sample patient have diabetes."
   ]
  },
  {
   "cell_type": "code",
   "execution_count": 56,
   "metadata": {},
   "outputs": [
    {
     "data": {
      "text/html": [
       "<div>\n",
       "<style scoped>\n",
       "    .dataframe tbody tr th:only-of-type {\n",
       "        vertical-align: middle;\n",
       "    }\n",
       "\n",
       "    .dataframe tbody tr th {\n",
       "        vertical-align: top;\n",
       "    }\n",
       "\n",
       "    .dataframe thead th {\n",
       "        text-align: right;\n",
       "    }\n",
       "</style>\n",
       "<table border=\"1\" class=\"dataframe\">\n",
       "  <thead>\n",
       "    <tr style=\"text-align: right;\">\n",
       "      <th></th>\n",
       "      <th>preg</th>\n",
       "      <th>gluc</th>\n",
       "      <th>pres</th>\n",
       "      <th>skin</th>\n",
       "      <th>insu</th>\n",
       "      <th>bmi</th>\n",
       "      <th>dbpf</th>\n",
       "      <th>age</th>\n",
       "    </tr>\n",
       "    <tr>\n",
       "      <th>out</th>\n",
       "      <th></th>\n",
       "      <th></th>\n",
       "      <th></th>\n",
       "      <th></th>\n",
       "      <th></th>\n",
       "      <th></th>\n",
       "      <th></th>\n",
       "      <th></th>\n",
       "    </tr>\n",
       "  </thead>\n",
       "  <tbody>\n",
       "    <tr>\n",
       "      <th>0</th>\n",
       "      <td>3.882000</td>\n",
       "      <td>110.710121</td>\n",
       "      <td>70.920000</td>\n",
       "      <td>27.170000</td>\n",
       "      <td>130.624000</td>\n",
       "      <td>30.888434</td>\n",
       "      <td>0.429734</td>\n",
       "      <td>31.190000</td>\n",
       "    </tr>\n",
       "    <tr>\n",
       "      <th>1</th>\n",
       "      <td>5.716418</td>\n",
       "      <td>142.165573</td>\n",
       "      <td>75.123134</td>\n",
       "      <td>32.671642</td>\n",
       "      <td>206.925373</td>\n",
       "      <td>35.384757</td>\n",
       "      <td>0.550500</td>\n",
       "      <td>37.067164</td>\n",
       "    </tr>\n",
       "  </tbody>\n",
       "</table>\n",
       "</div>"
      ],
      "text/plain": [
       "         preg        gluc       pres       skin        insu        bmi  \\\n",
       "out                                                                      \n",
       "0    3.882000  110.710121  70.920000  27.170000  130.624000  30.888434   \n",
       "1    5.716418  142.165573  75.123134  32.671642  206.925373  35.384757   \n",
       "\n",
       "         dbpf        age  \n",
       "out                       \n",
       "0    0.429734  31.190000  \n",
       "1    0.550500  37.067164  "
      ]
     },
     "execution_count": 56,
     "metadata": {},
     "output_type": "execute_result"
    }
   ],
   "source": [
    "data.groupby('out').mean()"
   ]
  },
  {
   "cell_type": "markdown",
   "metadata": {},
   "source": [
    "After groping the data by mean, I can conclude that all variables have a higher mean for data output 1. It means that patient who has positive diabetes have a higher diagnostic value than the patient who hasn't diabetes. "
   ]
  },
  {
   "cell_type": "markdown",
   "metadata": {},
   "source": [
    "### Visualization"
   ]
  },
  {
   "cell_type": "code",
   "execution_count": 57,
   "metadata": {},
   "outputs": [
    {
     "data": {
      "image/png": "[encoded data removed]",
      "text/plain": [
       "<Figure size 720x360 with 8 Axes>"
      ]
     },
     "metadata": {},
     "output_type": "display_data"
    }
   ],
   "source": [
    "# box plot \n",
    "data[['preg', 'gluc', 'pres', 'skin', 'insu', 'bmi', 'dbpf']].plot(kind='box', subplots = True, layout =(2,4), sharex= False, sharey = False)\n",
    "plt.gcf().set_size_inches(10,5)\n",
    "plt.show()"
   ]
  },
  {
   "cell_type": "code",
   "execution_count": 58,
   "metadata": {},
   "outputs": [
    {
     "data": {
      "image/png": "[encoded data removed]",
      "text/plain": [
       "<Figure size 1080x720 with 9 Axes>"
      ]
     },
     "metadata": {},
     "output_type": "display_data"
    }
   ],
   "source": [
    "# histogram \n",
    "data.hist(color = 'green')\n",
    "plt.gcf().set_size_inches(15,10)\n",
    "plt.show()"
   ]
  },
  {
   "cell_type": "code",
   "execution_count": 59,
   "metadata": {},
   "outputs": [
    {
     "data": {
      "image/png": "[encoded data removed]",
      "text/plain": [
       "<Figure size 432x288 with 1 Axes>"
      ]
     },
     "metadata": {},
     "output_type": "display_data"
    }
   ],
   "source": [
    "pd.crosstab(data.preg, data.out).plot(kind='bar')\n",
    "plt.xlabel('Number of times pregnant')\n",
    "plt.ylabel('Pregnancies')\n",
    "plt.legend(loc = 'upper right', title = 'Output')\n",
    "plt.show()"
   ]
  },
  {
   "cell_type": "markdown",
   "metadata": {},
   "source": [
    "Figure 2 shows patients with their number of pregnancies, it is visible that patients with number of pregnancies below 7 are less likely to be diagnosed with diabetes. That is, the higher the number of pregnancies the higher the chances are of being diagnosed with diabetes."
   ]
  },
  {
   "cell_type": "code",
   "execution_count": 60,
   "metadata": {},
   "outputs": [
    {
     "data": {
      "text/html": [
       "<div>\n",
       "<style scoped>\n",
       "    .dataframe tbody tr th:only-of-type {\n",
       "        vertical-align: middle;\n",
       "    }\n",
       "\n",
       "    .dataframe tbody tr th {\n",
       "        vertical-align: top;\n",
       "    }\n",
       "\n",
       "    .dataframe thead th {\n",
       "        text-align: right;\n",
       "    }\n",
       "</style>\n",
       "<table border=\"1\" class=\"dataframe\">\n",
       "  <thead>\n",
       "    <tr style=\"text-align: right;\">\n",
       "      <th></th>\n",
       "      <th>preg</th>\n",
       "      <th>gluc</th>\n",
       "      <th>pres</th>\n",
       "      <th>skin</th>\n",
       "      <th>insu</th>\n",
       "      <th>bmi</th>\n",
       "      <th>dbpf</th>\n",
       "      <th>age</th>\n",
       "      <th>out</th>\n",
       "    </tr>\n",
       "  </thead>\n",
       "  <tbody>\n",
       "    <tr>\n",
       "      <th>preg</th>\n",
       "      <td>1.000000</td>\n",
       "      <td>0.208146</td>\n",
       "      <td>0.274751</td>\n",
       "      <td>0.188722</td>\n",
       "      <td>0.240591</td>\n",
       "      <td>0.141378</td>\n",
       "      <td>-0.008222</td>\n",
       "      <td>0.560949</td>\n",
       "      <td>0.296518</td>\n",
       "    </tr>\n",
       "    <tr>\n",
       "      <th>gluc</th>\n",
       "      <td>0.208146</td>\n",
       "      <td>1.000000</td>\n",
       "      <td>0.242270</td>\n",
       "      <td>0.254830</td>\n",
       "      <td>0.530622</td>\n",
       "      <td>0.224671</td>\n",
       "      <td>0.090258</td>\n",
       "      <td>0.281331</td>\n",
       "      <td>0.481630</td>\n",
       "    </tr>\n",
       "    <tr>\n",
       "      <th>pres</th>\n",
       "      <td>0.274751</td>\n",
       "      <td>0.242270</td>\n",
       "      <td>1.000000</td>\n",
       "      <td>0.212159</td>\n",
       "      <td>0.161811</td>\n",
       "      <td>0.289511</td>\n",
       "      <td>0.009744</td>\n",
       "      <td>0.366221</td>\n",
       "      <td>0.170832</td>\n",
       "    </tr>\n",
       "    <tr>\n",
       "      <th>skin</th>\n",
       "      <td>0.188722</td>\n",
       "      <td>0.254830</td>\n",
       "      <td>0.212159</td>\n",
       "      <td>1.000000</td>\n",
       "      <td>0.308506</td>\n",
       "      <td>0.583619</td>\n",
       "      <td>0.066185</td>\n",
       "      <td>0.195109</td>\n",
       "      <td>0.358751</td>\n",
       "    </tr>\n",
       "    <tr>\n",
       "      <th>insu</th>\n",
       "      <td>0.240591</td>\n",
       "      <td>0.530622</td>\n",
       "      <td>0.161811</td>\n",
       "      <td>0.308506</td>\n",
       "      <td>1.000000</td>\n",
       "      <td>0.267667</td>\n",
       "      <td>0.076530</td>\n",
       "      <td>0.261870</td>\n",
       "      <td>0.542444</td>\n",
       "    </tr>\n",
       "    <tr>\n",
       "      <th>bmi</th>\n",
       "      <td>0.141378</td>\n",
       "      <td>0.224671</td>\n",
       "      <td>0.289511</td>\n",
       "      <td>0.583619</td>\n",
       "      <td>0.267667</td>\n",
       "      <td>1.000000</td>\n",
       "      <td>0.134012</td>\n",
       "      <td>0.120183</td>\n",
       "      <td>0.306577</td>\n",
       "    </tr>\n",
       "    <tr>\n",
       "      <th>dbpf</th>\n",
       "      <td>-0.008222</td>\n",
       "      <td>0.090258</td>\n",
       "      <td>0.009744</td>\n",
       "      <td>0.066185</td>\n",
       "      <td>0.076530</td>\n",
       "      <td>0.134012</td>\n",
       "      <td>1.000000</td>\n",
       "      <td>0.042909</td>\n",
       "      <td>0.175353</td>\n",
       "    </tr>\n",
       "    <tr>\n",
       "      <th>age</th>\n",
       "      <td>0.560949</td>\n",
       "      <td>0.281331</td>\n",
       "      <td>0.366221</td>\n",
       "      <td>0.195109</td>\n",
       "      <td>0.261870</td>\n",
       "      <td>0.120183</td>\n",
       "      <td>0.042909</td>\n",
       "      <td>1.000000</td>\n",
       "      <td>0.309040</td>\n",
       "    </tr>\n",
       "    <tr>\n",
       "      <th>out</th>\n",
       "      <td>0.296518</td>\n",
       "      <td>0.481630</td>\n",
       "      <td>0.170832</td>\n",
       "      <td>0.358751</td>\n",
       "      <td>0.542444</td>\n",
       "      <td>0.306577</td>\n",
       "      <td>0.175353</td>\n",
       "      <td>0.309040</td>\n",
       "      <td>1.000000</td>\n",
       "    </tr>\n",
       "  </tbody>\n",
       "</table>\n",
       "</div>"
      ],
      "text/plain": [
       "          preg      gluc      pres      skin      insu       bmi      dbpf  \\\n",
       "preg  1.000000  0.208146  0.274751  0.188722  0.240591  0.141378 -0.008222   \n",
       "gluc  0.208146  1.000000  0.242270  0.254830  0.530622  0.224671  0.090258   \n",
       "pres  0.274751  0.242270  1.000000  0.212159  0.161811  0.289511  0.009744   \n",
       "skin  0.188722  0.254830  0.212159  1.000000  0.308506  0.583619  0.066185   \n",
       "insu  0.240591  0.530622  0.161811  0.308506  1.000000  0.267667  0.076530   \n",
       "bmi   0.141378  0.224671  0.289511  0.583619  0.267667  1.000000  0.134012   \n",
       "dbpf -0.008222  0.090258  0.009744  0.066185  0.076530  0.134012  1.000000   \n",
       "age   0.560949  0.281331  0.366221  0.195109  0.261870  0.120183  0.042909   \n",
       "out   0.296518  0.481630  0.170832  0.358751  0.542444  0.306577  0.175353   \n",
       "\n",
       "           age       out  \n",
       "preg  0.560949  0.296518  \n",
       "gluc  0.281331  0.481630  \n",
       "pres  0.366221  0.170832  \n",
       "skin  0.195109  0.358751  \n",
       "insu  0.261870  0.542444  \n",
       "bmi   0.120183  0.306577  \n",
       "dbpf  0.042909  0.175353  \n",
       "age   1.000000  0.309040  \n",
       "out   0.309040  1.000000  "
      ]
     },
     "execution_count": 60,
     "metadata": {},
     "output_type": "execute_result"
    }
   ],
   "source": [
    "corr = data.corr(method='spearman')\n",
    "corr"
   ]
  },
  {
   "cell_type": "code",
   "execution_count": 61,
   "metadata": {},
   "outputs": [
    {
     "data": {
      "image/png": "[encoded data removed]",
      "text/plain": [
       "<Figure size 720x576 with 2 Axes>"
      ]
     },
     "metadata": {},
     "output_type": "display_data"
    }
   ],
   "source": [
    "plt.gcf().set_size_inches(10,8)\n",
    "heatmap = sns.heatmap(data.corr(method='spearman'), annot = True, cmap = 'YlOrBr')\n",
    "heatmap.set_title('Correlation Heatmap', pad = 20, fontsize = 20, color = 'red')\n",
    "plt.show()"
   ]
  },
  {
   "cell_type": "markdown",
   "metadata": {},
   "source": [
    "### Implement Model"
   ]
  },
  {
   "cell_type": "code",
   "execution_count": 63,
   "metadata": {},
   "outputs": [],
   "source": [
    "import statsmodels.api as sm"
   ]
  },
  {
   "cell_type": "code",
   "execution_count": 68,
   "metadata": {},
   "outputs": [],
   "source": [
    "X = data[['preg','gluc', 'pres', 'skin', 'insu', 'bmi', 'dbpf', 'age']]\n",
    "y = data['out']"
   ]
  },
  {
   "cell_type": "code",
   "execution_count": 69,
   "metadata": {},
   "outputs": [
    {
     "name": "stdout",
     "output_type": "stream",
     "text": [
      "Optimization terminated successfully.\n",
      "         Current function value: 0.542336\n",
      "         Iterations 6\n",
      "                         Results: Logit\n",
      "=================================================================\n",
      "Model:              Logit            Pseudo R-squared: 0.162     \n",
      "Dependent Variable: out              AIC:              849.0281  \n",
      "Date:               2020-12-24 14:59 BIC:              886.1784  \n",
      "No. Observations:   768              Log-Likelihood:   -416.51   \n",
      "Df Model:           7                LL-Null:          -496.74   \n",
      "Df Residuals:       760              LLR p-value:      2.5720e-31\n",
      "Converged:          1.0000           Scale:            1.0000    \n",
      "No. Iterations:     6.0000                                       \n",
      "-------------------------------------------------------------------\n",
      "           Coef.    Std.Err.      z      P>|z|     [0.025    0.975]\n",
      "-------------------------------------------------------------------\n",
      "preg       0.1930     0.0336    5.7473   0.0000    0.1272    0.2588\n",
      "gluc       0.0148     0.0033    4.4685   0.0000    0.0083    0.0212\n",
      "pres      -0.0611     0.0073   -8.3334   0.0000   -0.0755   -0.0467\n",
      "skin       0.0204     0.0121    1.6892   0.0912   -0.0033    0.0440\n",
      "insu       0.0071     0.0014    5.1911   0.0000    0.0044    0.0098\n",
      "bmi       -0.0158     0.0153   -1.0286   0.3037   -0.0458    0.0143\n",
      "dbpf       0.3938     0.2647    1.4880   0.1367   -0.1249    0.9126\n",
      "age       -0.0074     0.0088   -0.8444   0.3984   -0.0246    0.0098\n",
      "=================================================================\n",
      "\n"
     ]
    }
   ],
   "source": [
    "logit_model = sm.Logit(y,X)\n",
    "result = logit_model.fit()\n",
    "print(result.summary2())"
   ]
  },
  {
   "cell_type": "code",
   "execution_count": 71,
   "metadata": {},
   "outputs": [
    {
     "data": {
      "text/plain": [
       "LogisticRegression(solver='liblinear')"
      ]
     },
     "execution_count": 71,
     "metadata": {},
     "output_type": "execute_result"
    }
   ],
   "source": [
    "from sklearn.linear_model import LogisticRegression\n",
    "from sklearn.model_selection import train_test_split\n",
    "from sklearn import metrics \n",
    "X_train, X_test, y_train, y_test = train_test_split(X,y,test_size = 0.3, random_state = 7)\n",
    "logreg = LogisticRegression(solver='liblinear')\n",
    "logreg.fit(X_train, y_train)"
   ]
  },
  {
   "cell_type": "code",
   "execution_count": 72,
   "metadata": {},
   "outputs": [
    {
     "name": "stdout",
     "output_type": "stream",
     "text": [
      "Accuracy of logistic regression classifier on test set: 0.80\n"
     ]
    }
   ],
   "source": [
    "y_pred = logreg.predict(X_test)\n",
    "print('Accuracy of logistic regression classifier on test set: {:.2f}'.format(logreg.score(X_test, y_test)))"
   ]
  },
  {
   "cell_type": "code",
   "execution_count": 73,
   "metadata": {},
   "outputs": [
    {
     "name": "stdout",
     "output_type": "stream",
     "text": [
      "[[127  20]\n",
      " [ 27  57]]\n"
     ]
    }
   ],
   "source": [
    "from sklearn.metrics import confusion_matrix\n",
    "conf_matrix = confusion_matrix(y_test, y_pred)\n",
    "print(conf_matrix)"
   ]
  },
  {
   "cell_type": "code",
   "execution_count": 74,
   "metadata": {},
   "outputs": [
    {
     "name": "stdout",
     "output_type": "stream",
     "text": [
      "              precision    recall  f1-score   support\n",
      "\n",
      "           0       0.82      0.86      0.84       147\n",
      "           1       0.74      0.68      0.71        84\n",
      "\n",
      "    accuracy                           0.80       231\n",
      "   macro avg       0.78      0.77      0.78       231\n",
      "weighted avg       0.79      0.80      0.79       231\n",
      "\n"
     ]
    }
   ],
   "source": [
    "from sklearn.metrics import classification_report \n",
    "print(classification_report(y_test, y_pred))"
   ]
  },
  {
   "cell_type": "code",
   "execution_count": 75,
   "metadata": {},
   "outputs": [
    {
     "data": {
      "image/png": "[encoded data removed]",
      "text/plain": [
       "<Figure size 432x288 with 1 Axes>"
      ]
     },
     "metadata": {},
     "output_type": "display_data"
    }
   ],
   "source": [
    "from sklearn.metrics import roc_auc_score\n",
    "from sklearn.metrics import roc_curve\n",
    "logit_roc_auc = roc_auc_score(y_test, logreg.predict(X_test))\n",
    "fpr, tpr, thresholds = roc_curve(y_test, logreg.predict_proba(X_test)[:,1])\n",
    "plt.figure()\n",
    "plt.plot(fpr, tpr, label='Logistic Regression (area= %0.2f)' % logit_roc_auc, color = 'blue')\n",
    "plt.plot([0,1], [0,1], 'r--')\n",
    "plt.xlim([0.0, 1.0])\n",
    "plt.ylim([0.1, 1.05])\n",
    "plt.xlabel('False Positive Rate')\n",
    "plt.ylabel('True Positive Rate')\n",
    "plt.title('Receiver Operating Characteristic')\n",
    "plt.legend(loc='lower right')\n",
    "plt.show()"
   ]
  },
  {
   "cell_type": "markdown",
   "metadata": {},
   "source": [
    "what if "
   ]
  },
  {
   "cell_type": "code",
   "execution_count": 77,
   "metadata": {},
   "outputs": [],
   "source": [
    "A = data[['preg','gluc', 'pres', 'insu']]\n",
    "b = data['out']"
   ]
  },
  {
   "cell_type": "code",
   "execution_count": 78,
   "metadata": {},
   "outputs": [
    {
     "name": "stdout",
     "output_type": "stream",
     "text": [
      "Optimization terminated successfully.\n",
      "         Current function value: 0.545975\n",
      "         Iterations 6\n",
      "                         Results: Logit\n",
      "=================================================================\n",
      "Model:              Logit            Pseudo R-squared: 0.156     \n",
      "Dependent Variable: out              AIC:              846.6183  \n",
      "Date:               2020-12-24 15:08 BIC:              865.1935  \n",
      "No. Observations:   768              Log-Likelihood:   -419.31   \n",
      "Df Model:           3                LL-Null:          -496.74   \n",
      "Df Residuals:       764              LLR p-value:      2.3500e-33\n",
      "Converged:          1.0000           Scale:            1.0000    \n",
      "No. Iterations:     6.0000                                       \n",
      "-------------------------------------------------------------------\n",
      "          Coef.    Std.Err.      z       P>|z|     [0.025    0.975]\n",
      "-------------------------------------------------------------------\n",
      "preg      0.1818     0.0299     6.0873   0.0000    0.1233    0.2403\n",
      "gluc      0.0151     0.0031     4.8595   0.0000    0.0090    0.0212\n",
      "pres     -0.0609     0.0056   -10.9109   0.0000   -0.0719   -0.0500\n",
      "insu      0.0072     0.0014     5.3102   0.0000    0.0046    0.0099\n",
      "=================================================================\n",
      "\n"
     ]
    }
   ],
   "source": [
    "logit_model = sm.Logit(b,A)\n",
    "result = logit_model.fit()\n",
    "print(result.summary2())"
   ]
  },
  {
   "cell_type": "code",
   "execution_count": 79,
   "metadata": {},
   "outputs": [
    {
     "data": {
      "text/plain": [
       "LogisticRegression(solver='liblinear')"
      ]
     },
     "execution_count": 79,
     "metadata": {},
     "output_type": "execute_result"
    }
   ],
   "source": [
    "from sklearn.linear_model import LogisticRegression\n",
    "from sklearn.model_selection import train_test_split\n",
    "from sklearn import metrics \n",
    "A_train, A_test, b_train, b_test = train_test_split(A,b,test_size = 0.3, random_state = 7)\n",
    "logreg = LogisticRegression(solver='liblinear')\n",
    "logreg.fit(A_train, b_train)"
   ]
  },
  {
   "cell_type": "code",
   "execution_count": 80,
   "metadata": {},
   "outputs": [
    {
     "name": "stdout",
     "output_type": "stream",
     "text": [
      "Accuracy of logistic regression classifier on test set: 0.77\n"
     ]
    }
   ],
   "source": [
    "b_pred = logreg.predict(A_test)\n",
    "print('Accuracy of logistic regression classifier on test set: {:.2f}'.format(logreg.score(A_test, b_test)))"
   ]
  },
  {
   "cell_type": "code",
   "execution_count": 81,
   "metadata": {},
   "outputs": [
    {
     "name": "stdout",
     "output_type": "stream",
     "text": [
      "[[128  19]\n",
      " [ 33  51]]\n"
     ]
    }
   ],
   "source": [
    "from sklearn.metrics import confusion_matrix\n",
    "conf_matrix = confusion_matrix(b_test, b_pred)\n",
    "print(conf_matrix)"
   ]
  },
  {
   "cell_type": "code",
   "execution_count": 82,
   "metadata": {},
   "outputs": [
    {
     "name": "stdout",
     "output_type": "stream",
     "text": [
      "              precision    recall  f1-score   support\n",
      "\n",
      "           0       0.80      0.87      0.83       147\n",
      "           1       0.73      0.61      0.66        84\n",
      "\n",
      "    accuracy                           0.77       231\n",
      "   macro avg       0.76      0.74      0.75       231\n",
      "weighted avg       0.77      0.77      0.77       231\n",
      "\n"
     ]
    }
   ],
   "source": [
    "from sklearn.metrics import classification_report \n",
    "print(classification_report(b_test, b_pred))"
   ]
  },
  {
   "cell_type": "code",
   "execution_count": 83,
   "metadata": {},
   "outputs": [
    {
     "data": {
      "image/png": "[encoded data removed]",
      "text/plain": [
       "<Figure size 432x288 with 1 Axes>"
      ]
     },
     "metadata": {},
     "output_type": "display_data"
    }
   ],
   "source": [
    "from sklearn.metrics import roc_auc_score\n",
    "from sklearn.metrics import roc_curve\n",
    "logit_roc_auc = roc_auc_score(b_test, logreg.predict(A_test))\n",
    "fpr, tpr, thresholds = roc_curve(b_test, logreg.predict_proba(A_test)[:,1])\n",
    "plt.figure()\n",
    "plt.plot(fpr, tpr, label='Logistic Regression (area= %0.2f)' % logit_roc_auc, color = 'blue')\n",
    "plt.plot([0,1], [0,1], 'r--')\n",
    "plt.xlim([0.0, 1.0])\n",
    "plt.ylim([0.1, 1.05])\n",
    "plt.xlabel('False Positive Rate')\n",
    "plt.ylabel('True Positive Rate')\n",
    "plt.title('Receiver Operating Characteristic')\n",
    "plt.legend(loc='lower right')\n",
    "plt.show()"
   ]
  },
  {
   "cell_type": "code",
   "execution_count": null,
   "metadata": {},
   "outputs": [],
   "source": []
  }
 ],
 "metadata": {
  "kernelspec": {
   "display_name": "Python 3",
   "language": "python",
   "name": "python3"
  },
  "language_info": {
   "codemirror_mode": {
    "name": "ipython",
    "version": 3
   },
   "file_extension": ".py",
   "mimetype": "text/x-python",
   "name": "python",
   "nbconvert_exporter": "python",
   "pygments_lexer": "ipython3",
   "version": "3.7.3"
  }
 },
 "nbformat": 4,
 "nbformat_minor": 4
}
